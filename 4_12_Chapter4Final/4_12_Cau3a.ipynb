{
 "cells": [
  {
   "cell_type": "code",
   "execution_count": 1,
   "metadata": {},
   "outputs": [
    {
     "name": "stdout",
     "output_type": "stream",
     "text": [
      "Words in dictionary:  ['ai_ngờ', 'akem', 'alo', 'an', 'angry_face', 'anh_chị', 'anxious_face_with_sweat', 'ban_công', 'ban_đầu', 'bao', 'bao_nhiêu', 'beaming_face_with_smiling_eyes', 'biet', 'bill', 'bingsu', 'bit', 'biê', 'biến', 'biển', 'bla', 'blacklist', 'blue', 'bn', 'boa', 'bon', 'bon_chen', 'buoi', 'buồn', 'buổi_sáng', 'buổi_trưa', 'bv', 'bx', 'bài_tập', 'bàn', 'bàn_ghế', 'bày', 'bá', 'bánh', 'bánh_gối', 'bánh_sandwich', 'bánh_tráng', 'báo', 'bát', 'bây', 'bây_giờ', 'bé', 'bé_bé', 'bé_tí', 'bé_tẹo', 'béo', 'béo_béo', 'bên_bị', 'bên_cạnh', 'bì', 'bình', 'bình_thường', 'bò', 'bó', 'bùi_viện', 'bún', 'bơ', 'bư', 'bưng', 'bạn_bè', 'bản_thân', 'bảng_hiệu', 'bảo', 'bảo_kê', 'bảo_quản', 'bảo_vệ', 'bất_cứ', 'bất_kì', 'bấy_nhiêu', 'bậc', 'bận', 'bắp', 'bắt', 'bắt_buộc', 'bắt_mắt', 'bằm', 'bẵng', 'bề_mặt', 'bịch', 'bọc', 'bọn', 'bố_thí', 'bột', 'bở', 'bủm', 'bừa', 'bửa', 'bữa', 'bực_bội', 'bực_mình', 'ca', 'cacao', 'cafe', 'cam', 'card', 'cay', 'cay_cay', 'cay_xè', 'cf', 'ch', 'chai', 'chanh', 'chay', 'che', 'check', 'cheese', 'cheesecake', 'chen_chúc', 'chi', 'chi_nhánh', 'chia_sẻ', 'chiêm_ngưỡng', 'chiên', 'chiều', 'cho_biết', 'cho_dù', 'cho_đến', 'chocolate', 'choẹt', 'chu_đáo', 'chua', 'chug', 'chuẩn_bị', 'chà', 'chào_hỏi', 'chán', 'chát', 'cháy', 'châ', 'châm', 'chân', 'chân_thành', 'chã', 'chè', 'chém', 'chén', 'chê', 'chìa', 'chìa_khóa', 'chín', 'chín_tới', 'chúng_tôi', 'chút', 'chương_trình', 'chạy', 'chạy_bàn', 'chả', 'chấm', 'chấp_nhận', 'chất', 'chất_lượng', 'chậm', 'chậm_chạp', 'chật_chội', 'chậu', 'chắc_chắn', 'chẳng', 'chế', 'chế_độ', 'chết', 'chỉ_tay_vào_mặt_mình', 'chỉnh', 'chịu_khó', 'chổ', 'chỗ', 'chờ', 'chờ_đợi', 'chở', 'chụp', 'chủ', 'chủ_nhật', 'chủ_yếu', 'chủ_đạo', 'chửi', 'chữ', 'class', 'co', 'coi', 'coi_chừng', 'coi_trọng', 'combo', 'comment', 'con_nít', 'con_trai', 'cow', 'csgt', 'cu', 'cua', 'cung', 'cung_cấp', 'cungz', 'cute', 'cuối_cùng', 'cà_phê', 'cà_rốt', 'cá', 'cá_ngừ', 'cá_nhân', 'cát_linh', 'câ', 'câu', 'có_giá', 'có_lý', 'có_nhân', 'có_thể', 'có_vẻ', 'có_điều', 'công_an', 'công_nhận', 'cù', 'cùn', 'cùng_với', 'cúi', 'căn_bản', 'căng', 'căng_thẳng', 'cũ', 'cơ_mà', 'cơm', 'cư_xử', 'cạnh', 'cải', 'cảm_giác', 'cảm_nhận', 'cảm_thấy', 'cảnh', 'cất', 'cầm', 'cầu_kỳ', 'cầu_nguyện', 'cầu_thang', 'cận', 'cắn', 'cọng', 'cố', 'cố_ý', 'cốc', 'cốp', 'cổ', 'cộng', 'cục', 'cục_tính', 'củ', 'củ_cải', 'cứ_thế', 'cứng', 'cửa', 'da', 'dai', 'dashing_away', 'dashing_awayng', 'dc', 'deep', 'deepblue', 'den', 'dep', 'dg', 'di', 'di_chuyển', 'dien', 'disappointed_face', 'diã', 'diê', 'dong', 'dt', 'du_lịch', 'duoc', 'duy_nhất', 'duyên', 'dày', 'dám', 'dân_cư', 'dâu', 'dây', 'dè', 'dò', 'dùm', 'dĩa', 'dơ', 'dải', 'dấu', 'dầu', 'dầy', 'dắt', 'dặn', 'dẹp_tiệm', 'dẻo', 'dễ_thương', 'dịch_vụ', 'dịp', 'dọn', 'dở', 'dởghiền', 'dỡ', 'dừa', 'dừng', 'dữ_dằn', 'eny', 'express', 'face_savoring_food', 'face_with_steam_from_nose', 'face_with_tears_of_joy', 'face_with_tears_of_joykem', 'face_with_tears_of_joyđầu', 'fai', 'fan', 'fast', 'fb', 'flan', 'food', 'foody', 'fômai', 'ghe', 'ghi', 'ghiền', 'ghé', 'ghét', 'ghê', 'ghế', 'gia_vị', 'giao', 'giá', 'giá_cả', 'giá_như', 'giá_thành', 'giòn', 'giùm', 'giư', 'giả_sử', 'giải_quyết', 'giải_thích', 'giải_đáp', 'giảm_giá', 'giấm', 'giấy', 'giềng', 'giới_thiệu', 'giở', 'go', 'goi', 'gu', 'guitar', 'gà', 'gàn', 'gác_xép', 'gân', 'gìơ', 'gơ', 'gấp', 'gật', 'gật_đầu', 'gắp', 'gắt', 'gắt_lên', 'gọi', 'gọi_là', 'gọn', 'gỏi', 'gốc', 'gỗ', 'gởi', 'gửi', 'hai', 'ham', 'ham_hố', 'hamburgers', 'hashtaglink', 'hay_sao', 'hi_vọng', 'highlands', 'hiếm', 'hiệu_ứng', 'hk', 'hl', 'hn', 'hnay', 'hochiminhhashtagkemduathai', 'hoe', 'hoi', 'hok', 'hot', 'hoài', 'hoài_cổ', 'hoàn_toàn', 'hoành_thánh', 'hoá_học', 'href', 'huhuhu', 'huỷ', 'hài_lòng', 'hàng', 'háo_hức', 'hìh', 'hình', 'hình_như', 'hình_sự', 'hí_hửng', 'hóa_đơn', 'hô', 'hôm', 'hôm_nay', 'hôm_qua', 'hũ', 'hơi', 'hơn_nữa', 'hơn_nữakem', 'hương', 'hướng', 'hạt', 'hả', 'hải_sản', 'hấp_dẫn', 'hất', 'hậu_đậu', 'hẳn', 'hẹn', 'hẻm', 'hết_hồn', 'hết_nước', 'hề', 'học', 'hỏi_thăm', 'hối_hận', 'hồ_lô', 'hồi', 'hồn', 'hộ', 'hộp', 'hờ_hững', 'hỡi', 'hỡi_ôi', 'hợp', 'hợp_lí', 'hợp_đồng', 'hụt', 'hủ', 'hứng', 'hứngý_kiến', 'hừm', 'hửi', 'in', 'ixora', 'jumbo', 'jèeeeeeee', 'kem', 'kemduathai', 'kha', 'khai_trương', 'khay', 'khen', 'khinh', 'khoai', 'khoai_tây', 'khoaitâyphômai', 'khtâychiên', 'khu', 'khu_vực', 'khuyên', 'khuyến_mãi', 'khách_hàng', 'khách_vãng_lai', 'khát', 'khéo', 'khét', 'khó_chịu', 'khói', 'khôi_hài', 'không_bao_giờ', 'không_gian', 'không_thể', 'khônh', 'khăn', 'khẩu', 'khớp', 'kia', 'kim_chi', 'kimchi', 'kinh', 'kinh_khủng', 'kissing_face_with_closed_eyes', 'kissing_face_with_closed_eyesđi', 'kiu', 'kiwi', 'kiên_nhẫn', 'kiếm', 'kiếng', 'kiểm', 'kiểm_tra', 'kiểu', 'kiệm_lời', 'kkhách', 'km', 'kmón', 'ko', 'kèm', 'kém', 'kéo', 'kê', 'kêu', 'kì', 'kích_thích', 'kím', 'kín', 'kĩ', 'kẻ', 'kế', 'kết_hợp', 'kệ', 'la', 'lag', 'lan', 'lau', 'le', 'len', 'light_skin_tone', 'liên_tục', 'liền', 'loay_hoay', 'loi', 'loudly_crying_face', 'lu', 'lui', 'lun', 'luon', 'luôn_thể', 'ly', 'là_hơi', 'làm_chi', 'làm_nên', 'làm_sao', 'lát', 'lâ', 'lâu_đời', 'lê', 'lê_lai', 'lít', 'lòg', 'lóng', 'lúc_nào', 'lý_do', 'lăng_xăng', 'lưlương', 'lườm', 'lượt', 'lạ', 'lạ_lạ', 'lạc', 'lại_nữa', 'lạnh', 'lạnh_ngắt', 'lạt', 'lả', 'lấp_ló', 'lầ', 'lầu', 'lẩu', 'lẫn', 'lắm', 'lắp', 'lặn_lội', 'lẹ', 'lịch_sự', 'lỗi', 'lớn_tuổi', 'lớp', 'lựa', 'lựa_chọn', 'ma', 'mag', 'mak', 'mas', 'matcha', 'mau', 'menu', 'minh', 'mini', 'mix', 'miê', 'miếng', 'miễn_phí', 'miệng', 'moi', 'mom', 'monster', 'moto', 'mua', 'mua_ly_nước_xong_vô_đây_ngồi_thì_tuyệt', 'mua_lẻ', 'muối', 'muối_ăn', 'muộn', 'mà_còn', 'mà_lại', 'mành', 'màu', 'má', 'mát', 'mát_mẻ', 'máy', 'máy_lạnh', 'mâm', 'mây', 'mã', 'mãi', 'mãn', 'mè', 'mì', 'mìh', 'móc', 'móc_túi', 'món', 'mù', 'mùa_đông', 'mùi', 'mùi_gì', 'mùnh', 'mún', 'mưa', 'mạ', 'mạng', 'mất_dạy', 'mấy', 'mắc', 'mắcchất_lượng', 'mắt', 'mặc_dù', 'mặn', 'mặt', 'mặt_bằng', 'mẹ', 'mềm', 'mềm_dẻo', 'mệt', 'mịn', 'mọe', 'mỏng', 'mỗi_tội', 'mộng_cầm', 'một_mình', 'một_ít', 'mớ', 'mới_rồi', 'mới_đầu', 'mứt', 'mừng', 'mỳ', 'mỹ', 'na', 'nc', 'nchung', 'nen', 'ng', 'ngang', 'nghi', 'nghiện', 'nghêu', 'nghĩ_bụng', 'nghĩ_lại', 'ngon', 'ngonquán', 'ngoài_lề', 'ngoài_trời', 'ngoại', 'ngoảnh', 'ngta', 'nguoi', 'nguyên', 'ngàn', 'ngày_trước', 'ngán', 'ngét', 'ngó', 'ngăn', 'ngơ_ngáo', 'người_ta', 'ngạc_nhiên', 'ngấy', 'ngần', 'ngẫu_nhiên', 'ngồi_không', 'nha', 'nhanh_nhẹn', 'nheee', 'nhg', 'nho', 'nhu_cầu', 'nhân', 'nhân_viên', 'nhét', 'nhìn_chung', 'nhìu', 'nhúm', 'nhúng', 'như_không', 'như_là', 'như_thế', 'như_thế_nào', 'như_thế_này', 'như_vậy', 'nhưng_anh', 'nhưng_mà', 'nhưng_tuấn', 'nhường', 'nhạc', 'nhạt', 'nhạt_nhẽo', 'nhất_là', 'nhầm', 'nhầm_lẫn', 'nhật', 'nhắm_mắt', 'nhắn', 'nhịn', 'nhỏ_con', 'no', 'nuớc', 'nv', 'nào_là', 'nào_đó', 'này_nọ', 'nãn', 'nãy', 'ném', 'nêm', 'nói_chung', 'nói_chuyện', 'nóng', 'năng', 'nư', 'nước_chấm', 'nướng', 'nườm_nượp', 'nấm', 'nầm', 'nằm', 'nếu_không', 'nồi', 'nồng', 'nổi', 'nỗi', 'nội_dung', 'nộm', 'nứt', 'nửa', 'nữa_là', 'ok', 'ok_hand', 'oke', 'okie', 'olong', 'onđi', 'or', 'order', 'panchan', 'pate', 'pensive_face', 'pha', 'phan_thiết', 'phi', 'phomai', 'phong_cách', 'phu', 'phuc', 'phán', 'phát_hiện', 'phí', 'phô_mai', 'phômai', 'phômaique', 'phù_hợp', 'phút', 'phố', 'phở', 'phụ', 'phụ_thu', 'phục_vụ', 'phủ', 'plan', 'pop', 'popping', 'pphải', 'pr', 'pudding', 'pục', 'qan', 'qay', 'qt', 'qu', 'quan', 'quan_sát', 'quen', 'quyết_định', 'quài', 'quá_lửa', 'quá_tệkhông_gian', 'quán', 'quán_dear_joe', 'quán_ăn', 'quây', 'quên', 'quản', 'quản_lý', 'quất', 'quầy', 'qá', 'qán', 'qên', 'qạo', 'qọmón', 'ra_gì', 'ra_vào', 'ra_vẻ', 'ra_đi', 'rau', 'rau_câu', 're', 'rep', 'repeat', 'resort', 'review', 'riêng_tư', 'rong_biển', 'rán', 'rên', 'rùa', 'rún', 'rút', 'ră', 'rơi', 'rước', 'rườm_rà', 'rượu', 'rầm_rộ', 'rắc', 'rẻ', 'rẻquán', 'rốt_cuộc', 'rỗng_không', 'rộng_rãi', 'rớt', 'sai', 'salad', 'sate', 'sau_này', 'say', 'security', 'sh', 'share', 'ship', 'sinh_tố', 'sinh_viênphở', 'siêu', 'soco', 'socola', 'soda', 'soi', 'ssmón', 'stình_hình', 'sula_mini', 'sushi', 'suy_nghĩ', 'suất', 'suối', 'sv', 'sài_gòn', 'sánh', 'sát', 'sát_sàn_sạt', 'sò', 'súp', 'sư', 'sư_vạn_hạnh', 'sườn', 'sạch', 'sạch_sẽ', 'sẵn', 'sền_sệt', 'sọan', 'số_lượng', 'sống', 'sốt', 'sợ', 'sợi', 'sủi', 'sứ', 'sử', 'sửa', 'sữa', 'sữaquán', 'sự_tình', 'ta', 'tan', 'taru', 'teo', 'tet', 'tha', 'thalasa', 'than', 'thanh_thản', 'thanh_toán', 'thay', 'thay_vì', 'the', 'them', 'thi', 'thik', 'thoang_thoảng', 'thong', 'thoáng', 'thoải_mái', 'thu', 'thu_hẹp', 'thuỷ_tinh', 'thuỷtinh', 'thà_là', 'thành_phẩm', 'thành_phố', 'thành_thật', 'thái', 'thái_độ', 'thân_thiện', 'thèm', 'thì_có', 'thì_phải', 'thói_quen', 'thông_cảm', 'thõa', 'thú_vị', 'thơm', 'thương_hiệu', 'thưởng_thức', 'thạch', 'thấm', 'thất_vọng', 'thật_ra', 'thật_sự', 'thắc_mắc', 'thằng', 'thẳg', 'thẻ', 'thế_nào', 'thế_này', 'thề', 'thể', 'thịt', 'thời_gian', 'thờng', 'thứ_ba', 'thứ_hai', 'thứ_tư', 'thức', 'thức_dậy', 'thức_ăn', 'thừa', 'thừa_nhận', 'thử', 'thử_nghiệm', 'thửđi', 'thực_hiện', 'thực_khách', 'thực_sự', 'ti', 'tiêu', 'tiếc', 'tiếng', 'tiếp', 'tiếp_thu', 'tiếp_tục', 'tiếp_đón', 'tiết_kiệm', 'tiềm', 'tiền', 'tiền_lẻ', 'tiện', 'to', 'tok', 'tokbokki', 'tom', 'tomyum', 'topping', 'toàn', 'tra', 'trang_trí', 'tranh_thủ', 'tren', 'treo', 'trog', 'trop', 'trua', 'trung_sơn', 'trà', 'tràn_trề', 'tràsữatràxanh', 'tràxanh', 'trái_cây', 'trân_châu', 'trình_bày', 'tròn', 'trông', 'trùi', 'trămkhu', 'trơ_mắt', 'trưa', 'trước_kia', 'trước_đây', 'trường', 'trường_học', 'trại', 'trả_lời', 'trải_nghiệm', 'trắng_bóc', 'trọn', 'trổ', 'trộn', 'trộnbánh_mì', 'trở_lên', 'trở_lại', 'trứng', 'trừ', 'trực', 'tt', 'tung_tẩy', 'tuy_nhiên', 'tuyệt_vờitối', 'tuýp', 'tuấn', 'tuần', 'tài_chính', 'tàm_tạm', 'tá', 'tác_dụng', 'tái', 'tálả', 'tâm', 'tèo', 'tìh', 'tình_cờ', 'tình_trạng', 'tí', 'tí_teo', 'tí_tẹo', 'tíh', 'tò_mò', 'tô', 'tôm', 'tùm_lum', 'túc_trực', 'túm', 'tươi', 'tương', 'tương_đối', 'tương_ớt', 'tường', 'tưởng', 'tạc', 'tại_sao', 'tạm', 'tạm_thời', 'tạmquán', 'tạt', 'tấp', 'tất_bật', 'tất_cả', 'tất_nhiênôi', 'tầm', 'tầng', 'tận', 'tận_tình', 'tặng', 'tệ', 'tỉnh', 'tị_nạn', 'tỏ_vẻ', 'tỏi', 'tố', 'tối', 'tối_qua', 'tối_đa', 'tổng_cộng', 'tổng_hợp', 'tụ_tập', 'tụi', 'tức', 'từ_chối', 'từ_ngữ', 'từ_từ', 'tự_do', 'tự_nhiên', 'tự_phục_vụ', 'tự_tin', 'ui', 'unamused_face', 'uoonga', 'up', 'update', 'uống', 'va', 'vai', 'van', 'vao', 'vat', 've', 'victory_hand', 'view', 'vinamik', 'viên', 'viết', 'vs', 'vu', 'vui', 'vui_vẻ', 'vàng_lá', 'vành', 'vé', 'vê', 'vì_sao', 'vì_vậy', 'ví', 'vòng', 'vô', 'vô_cùng', 'vô_duyên', 'vô_tận', 'vô_vị', 'văn_hoá', 'vĩnh_biệt', 'vũng_tàu', 'vơi', 'vư', 'vải', 'vấn_đề', 'vậy_mà', 'vậy_sao', 'vậy_thì', 'vắng', 'vặt', 'vệ_sinh', 'vệ_sinhphục_vụ', 'vỉa_hè', 'vị', 'vị_trí', 'vịt', 'vịêt', 'vốn_dĩ', 'vớt', 'vớt_vát', 'vợ_con', 'vụ', 'vừa_miệng', 'washabi', 'wifi', 'winking_face_with_tongue', 'xanh', 'xanh_rờn', 'xe', 'xe_máy', 'xem_thường', 'xin_lỗi', 'xin_phép', 'xinh', 'xinh_xinh', 'xong', 'xoài', 'xoắn', 'xx', 'xài', 'xào', 'xì_dầu', 'xó', 'xô', 'xôi', 'xúc_xích', 'xăm', 'xưa', 'xương', 'xương_rồng', 'xả', 'xấu', 'xếp', 'xỉu', 'xịt', 'xốp', 'xử', 'y_chang', 'y_nguyên', 'y_như', 'yaourt', 'yaua', 'yên', 'yên_tâm', 'yên_tĩnh', 'yêu', 'yêu_cầu', 'yếu', 'zô', 'ám', 'áo_khoác', 'áp_dụng', 'ép', 'ít_ỏi', 'ý_kiến', 'ăn_cắp', 'ăn_dở', 'ăn_làm', 'ăn_uống', 'ăn_xin', 'ăn_ở', 'đa_dạng', 'đa_phần', 'đam', 'đc', 'đem', 'đen', 'đen_thui', 'đg', 'đi', 'đi_lại', 'đi_về', 'điã', 'điên', 'điện', 'điệp', 'đo', 'đoạn', 'đuổi', 'đuợc', 'đà_nẵng', 'đàng_hoàng', 'đào', 'đá', 'đám', 'đánh', 'đánh_giá', 'đáy', 'đâ', 'đã_vậy', 'đèn', 'đê', 'đòi', 'đóng', 'đô', 'đông', 'đông_nghịt', 'đĩa', 'đơ', 'đơn_giản', 'đơn_thuần', 'đươ', 'đương_nhiên', 'đường', 'được_cái', 'đảm_bảo', 'đất', 'đấy', 'đầu', 'đầu_tiên', 'đầy_đủ', 'đập', 'đậu_bắp', 'đậu_nành', 'đậu_phộng', 'đậu_xanh', 'đắn_đo', 'đắng', 'đắt', 'đắt_giá', 'đằg', 'đằng', 'đặc_biệt', 'đặc_sắc', 'đặt_chân', 'đẹp', 'đến_nơi', 'đến_tom', 'để_ý', 'địa_điểm', 'định', 'đọc', 'đọng', 'đối', 'đối_với', 'đồ', 'đồ_chơi', 'đồ_ăn', 'đổi', 'độ', 'đỡ', 'đợi', 'đụng', 'đứa', 'đứng', 'đừng', 'đựng', 'đựơc', 'ơi_là', 'ưng', 'ưu_điểm', 'ướp', 'ảnh', 'ảnh_hưởng', 'ấm_cúng', 'ấn_tượng', 'ếch', 'ọ_', 'ồn', 'ổn', 'ổntom', 'ớt']\n",
      "Vector Bag-of-Word: \n",
      " [[0 0 0 ... 0 0 0]\n",
      " [0 0 0 ... 0 0 0]\n",
      " [0 0 0 ... 0 0 0]\n",
      " ...\n",
      " [0 0 0 ... 0 0 0]\n",
      " [0 0 0 ... 0 0 0]\n",
      " [0 0 0 ... 0 0 0]]\n"
     ]
    }
   ],
   "source": [
    "import nltk\n",
    "import re\n",
    "import os\n",
    "from nltk.probability import FreqDist\n",
    "from nltk.corpus import stopwords\n",
    "import emoji\n",
    "from sklearn.feature_extraction.text import CountVectorizer\n",
    "\n",
    "v=[]\n",
    "textt=''\n",
    "f = open(\"D:/Tài liệu học/kì 5 năm 3/Khai phá dữ liệu web/kpw/4_12_Chapter4Final/4_12_Chapter4Final/stopwordvn.txt\", \"r\", encoding=\"utf-8\")\n",
    "#Get Stop words Dictionaries\n",
    "List_StopWords=f.read().split(\"\\n\")\n",
    "#Read file text\n",
    "src='D:/Tài liệu học/kì 5 năm 3/Khai phá dữ liệu web/kpw/4_12_Chapter4Final/Data4'\n",
    "path=os.listdir(src)\n",
    "\n",
    "for i in path:\n",
    "    label=i.split(\"'\")[0]\n",
    " \n",
    "    f=open('D:/Tài liệu học/kì 5 năm 3/Khai phá dữ liệu web/kpw/4_12_Chapter4Final/Data4/'+str(label), \"r\", encoding=\"utf-8\")\n",
    "    text=f.read()\n",
    "#################################\n",
    "######## Text Processing ########\n",
    "#################################\n",
    "    text_pre=text.replace(\"\\n\",\"\")  # Remove the newline command\n",
    "    text_pre=text.lower() # Convert text to lowercase\n",
    "    text_pre = re.sub(\"\\d+\", \" \", text_pre) # Remove number\n",
    "    \n",
    "    text_pre = re.sub(r\"[!@#$[]()]'\", \"\", text_pre) # Remove character: !@#$[]()\n",
    "    text_pre=emoji.demojize(text_pre)\n",
    "    stop = stopwords.words('english')   # Remove StopWords\n",
    "    text_pre = \" \".join(text_pre for text_pre in text_pre.split() if text_pre not in List_StopWords)\n",
    "    textt=textt +text_pre \n",
    "\n",
    "\n",
    "v=textt.split(\" . \")\n",
    "Data=[]\n",
    "for i in v:\n",
    "    text_i=re.sub(r'[^\\w\\s]','',i) # Remove punctuation\n",
    "    Data.append(text_i)\n",
    "# print(Data)\n",
    "vect = CountVectorizer()\n",
    "X = vect.fit_transform(Data)\n",
    "\n",
    "# Xay dung tu dien\n",
    "dictionary=list(vect.get_feature_names_out())\n",
    "\n",
    "print(\"Words in dictionary: \", dictionary)\n",
    "print(\"Vector Bag-of-Word: \\n\", X.toarray())"
   ]
  }
 ],
 "metadata": {
  "interpreter": {
   "hash": "6420907d571700bda39d91c56e2e34986da203e291e814ba6901cd8edae2741b"
  },
  "kernelspec": {
   "display_name": "Python 3.11.6 64-bit (windows store)",
   "language": "python",
   "name": "python3"
  },
  "language_info": {
   "codemirror_mode": {
    "name": "ipython",
    "version": 3
   },
   "file_extension": ".py",
   "mimetype": "text/x-python",
   "name": "python",
   "nbconvert_exporter": "python",
   "pygments_lexer": "ipython3",
   "version": "3.11.6"
  },
  "orig_nbformat": 4
 },
 "nbformat": 4,
 "nbformat_minor": 2
}

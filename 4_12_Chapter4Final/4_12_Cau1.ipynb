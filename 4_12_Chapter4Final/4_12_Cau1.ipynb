{
 "cells": [
  {
   "cell_type": "code",
   "execution_count": 1,
   "metadata": {},
   "outputs": [],
   "source": [
    "import nltk\n",
    "import re\n",
    "import os\n",
    "from nltk.probability import FreqDist\n",
    "from nltk.corpus import stopwords\n",
    "from nltk.tokenize import sent_tokenize, word_tokenize\n",
    "import emoji\n",
    "\n",
    "from textblob import TextBlob\n",
    "\n",
    "list=[]\n",
    "\n",
    "f = open(\"D:/Tài liệu học/kì 5 năm 3/Khai phá dữ liệu web/kpw/4_12_Chapter4Final/4_12_Chapter4Final/stopwordvn.txt\", \"r\", encoding=\"utf-8\")\n",
    "#Get Stop words Dictionaries\n",
    "List_StopWords=f.read().split(\"\\n\")\n",
    "#Read file text\n",
    "src='D:/Tài liệu học/kì 5 năm 3/Khai phá dữ liệu web/kpw/4_12_Chapter4Final/Data4'\n",
    "path=os.listdir(src)\n",
    "\n",
    "for i in path:\n",
    "    label=i.split(\"'\")[0]\n",
    " \n",
    "    f=open('D:/Tài liệu học/kì 5 năm 3/Khai phá dữ liệu web/kpw/4_12_Chapter4Final/Data4/'+str(label), \"r\", encoding=\"utf-8\")\n",
    "    text=f.read()\n",
    "#################################\n",
    "######## Text Processing ########\n",
    "#################################\n",
    "    text_pre=text.replace(\"\\n\",\"\")  # Remove the newline command\n",
    "    text_pre=text.lower() # Convert text to lowercase\n",
    "    text_pre = re.sub(\"\\d+\", \" \", text_pre) # Remove number\n",
    "    text_pre=re.sub(r'[^\\w\\s]','',text_pre) # Remove punctuation\n",
    "    text_pre = re.sub(r\"[!@#$[]()]'\", \"\", text_pre) # Remove character: !@#$[]()\n",
    "    \n",
    "    text_pre=emoji.demojize(text_pre)\n",
    "    stop = stopwords.words('english')   # Remove StopWords\n",
    "    text_pre = \" \".join(text_pre for text_pre in text_pre.split() if text_pre not in List_StopWords)\n",
    "    text_pre=nltk.word_tokenize(text_pre) # Tokenizing\n",
    "    list=(text_pre)\n",
    "    \n",
    "    filename=os.path.join(\"D:/Tài liệu học/kì 5 năm 3/Khai phá dữ liệu web/kpw/4_12_Chapter4Final/4_12_Chapter4Final/data_preprocessing\", label)    \n",
    "    with open(filename, 'w+',encoding='utf-8') as f:\n",
    "            for s in list:\n",
    "                f.write(str(s) +\" \")\n",
    "   "
   ]
  }
 ],
 "metadata": {
  "interpreter": {
   "hash": "6420907d571700bda39d91c56e2e34986da203e291e814ba6901cd8edae2741b"
  },
  "kernelspec": {
   "display_name": "Python 3.11.6 64-bit (windows store)",
   "language": "python",
   "name": "python3"
  },
  "language_info": {
   "codemirror_mode": {
    "name": "ipython",
    "version": 3
   },
   "file_extension": ".py",
   "mimetype": "text/x-python",
   "name": "python",
   "nbconvert_exporter": "python",
   "pygments_lexer": "ipython3",
   "version": "3.11.6"
  },
  "orig_nbformat": 4
 },
 "nbformat": 4,
 "nbformat_minor": 2
}
